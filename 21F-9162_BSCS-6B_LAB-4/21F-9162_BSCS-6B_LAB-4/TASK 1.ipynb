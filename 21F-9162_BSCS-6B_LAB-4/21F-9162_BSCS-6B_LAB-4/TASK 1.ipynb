{
 "cells": [
  {
   "cell_type": "markdown",
   "id": "59db0e23",
   "metadata": {},
   "source": [
    "# Task 1"
   ]
  },
  {
   "cell_type": "code",
   "execution_count": 34,
   "id": "d410a4aa",
   "metadata": {},
   "outputs": [
    {
     "name": "stdout",
     "output_type": "stream",
     "text": [
      "Path found: html -> head -> title -> text\n"
     ]
    }
   ],
   "source": [
    "from collections import defaultdict\n",
    "\n",
    "class Graph:\n",
    "        \n",
    "    def __init__(self):\n",
    "        self.graph = defaultdict(list)\n",
    "\n",
    "    def add_edge(self, node, neighbors):\n",
    "        self.graph[node] = neighbors\n",
    "\n",
    "    def depth_limited_search(self, node, goal, depth_limit, path=[]):\n",
    "        if node == goal:\n",
    "            path.append(node)\n",
    "            return path\n",
    "        elif depth_limit == 0:\n",
    "            return None\n",
    "        else:\n",
    "            path.append(node)\n",
    "            for neighbor in self.graph.get(node, []):\n",
    "                result = self.depth_limited_search(neighbor, goal, depth_limit - 1, path)\n",
    "                if result is not None:\n",
    "                    return result\n",
    "            path.pop()\n",
    "            return None\n",
    "\n",
    "def main():\n",
    "  \n",
    "    graph = Graph()\n",
    "    f = open('web_graph.txt', 'r')\n",
    "    for line in f:\n",
    "        node, neighbors = line.strip().split(':')\n",
    "        neighbors = neighbors.strip()[1:-2].split(', ')\n",
    "        graph.add_edge(node, neighbors)\n",
    "\n",
    "\n",
    "    source = 'html'\n",
    "    goal = 'text'\n",
    "    maxDepth = 4\n",
    "    path = graph.depth_limited_search(source, goal, maxDepth)\n",
    "   \n",
    "    if path is None:\n",
    "        print(\"Path not found.\")\n",
    "    else:\n",
    "        print(\"Path found:\", \" -> \".join(path))\n",
    "        \n",
    "if __name__ == \"__main__\":\n",
    "    main()"
   ]
  },
  {
   "cell_type": "code",
   "execution_count": null,
   "id": "ca70c98a",
   "metadata": {},
   "outputs": [],
   "source": []
  }
 ],
 "metadata": {
  "kernelspec": {
   "display_name": "Python 3 (ipykernel)",
   "language": "python",
   "name": "python3"
  },
  "language_info": {
   "codemirror_mode": {
    "name": "ipython",
    "version": 3
   },
   "file_extension": ".py",
   "mimetype": "text/x-python",
   "name": "python",
   "nbconvert_exporter": "python",
   "pygments_lexer": "ipython3",
   "version": "3.11.4"
  }
 },
 "nbformat": 4,
 "nbformat_minor": 5
}
