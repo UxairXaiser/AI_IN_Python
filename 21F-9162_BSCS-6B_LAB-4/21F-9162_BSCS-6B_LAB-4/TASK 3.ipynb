from queue import PriorityQueue

class Graph:
    def __init__(self):
        self.edges = {}
    
    def add_edge(self, start, end, cost):
        if start not in self.edges:
            self.edges[start] = []
        self.edges[start].append((end, cost))
    
    def uniform_cost_search(self, start, goal):
        frontier = PriorityQueue()
        frontier.put((0, start))
        came_from = {}
        cost_so_far = {}
        came_from[start] = None
        cost_so_far[start] = 0
        
        while not frontier.empty():
            current_cost, current_node = frontier.get()
            
            if current_node == goal:
                break
            
            if current_node in self.edges:
                for next_node, cost in self.edges[current_node]:
                    new_cost = cost_so_far[current_node] + cost
                    if next_node not in cost_so_far or new_cost < cost_so_far[next_node]:
                        cost_so_far[next_node] = new_cost
                        priority = new_cost
                        frontier.put((priority, next_node))
                        came_from[next_node] = current_node
        
        path = []
        node = goal
        while node != start:
            path.append(node)
            node = came_from[node]
        path.append(start)
        path.reverse()
        
        return path, cost_so_far[goal]

graph = Graph()
graph.add_edge('Faisalabad', 'Lahore', 2)
graph.add_edge('Faisalabad', 'Chiniot', 1)
graph.add_edge('Faisalabad', 'Islamabad', 4)
graph.add_edge('Faisalabad', 'Sargodha', 2)
graph.add_edge('Lahore', 'Islamabad', 5)
graph.add_edge('Chiniot', 'Islamabad', 6)
graph.add_edge('Lahore', 'Chiniot', 3)
graph.add_edge('Rawalpindi', 'Islamabad', 1)
graph.add_edge('Rawalpindi', 'Murree', 1)

start_node = 'Faisalabad'
goal_node = 'Murree'
path, cost = graph.uniform_cost_search(start_node, goal_node)

print("Path:", path)
print("Cost:", cost)
