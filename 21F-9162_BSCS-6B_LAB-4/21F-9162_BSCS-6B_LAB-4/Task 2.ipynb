{
 "cells": [
  {
   "cell_type": "markdown",
   "id": "c257d787",
   "metadata": {},
   "source": [
    "# Task 2"
   ]
  },
  {
   "cell_type": "code",
   "execution_count": 37,
   "id": "9b5da6f7",
   "metadata": {},
   "outputs": [
    {
     "name": "stdout",
     "output_type": "stream",
     "text": [
      "Space copmlexity:  5\n",
      "Time copmlexity:  1\n",
      "Synonyms: \n",
      "Path found: happy -> pleased\n"
     ]
    }
   ],
   "source": [
    "from collections import defaultdict\n",
    "\n",
    "class Graph:\n",
    "    def __init__(self):\n",
    "        self.space_complexity= 0;\n",
    "        self.time_complexity= 0;\n",
    "        \n",
    "        self.graph = defaultdict(list)\n",
    "\n",
    "    def add_edge(self, node, neighbors):\n",
    "        self.graph[node] = neighbors\n",
    "\n",
    "    def depth_limited_search(self, node, goal, depth_limit, path=[]):\n",
    "        if node == goal:\n",
    "            path.append(node)\n",
    "            return path\n",
    "        elif depth_limit == 0:\n",
    "            return None\n",
    "        else:\n",
    "            path.append(node)\n",
    "            for neighbor in self.graph.get(node, []):\n",
    "                self.space_complexity+=1\n",
    "                result = self.depth_limited_search(neighbor, goal, depth_limit - 1, path)\n",
    "                if result is not None:\n",
    "                    return result\n",
    "            path.pop()\n",
    "            return None\n",
    "        \n",
    "    def IDDLS(self,source,goal,maxDepth):    \n",
    "        for i in range(1,maxDepth):\n",
    "            self.time_complexity+=1\n",
    "            res=self.depth_limited_search(source, goal, i)\n",
    "            if (res):\n",
    "                print(\"Space copmlexity: \",self.space_complexity)\n",
    "                print(\"Time copmlexity: \",self.time_complexity)\n",
    "                return res\n",
    "        \n",
    "def main():\n",
    "\n",
    "    graph = Graph()\n",
    "    f = open('Dictionary.txt', 'r')\n",
    "    for line in f:\n",
    "        node, neighbors = line.strip().split(':')\n",
    "        neighbors = neighbors.strip()[1:-2].split(', ')\n",
    "        graph.add_edge(node, neighbors)\n",
    "\n",
    "\n",
    "    source = 'happy'\n",
    "    goal = 'pleased'\n",
    "    maxDepth = 3\n",
    "    path = graph.IDDLS(source, goal, maxDepth)\n",
    "\n",
    "    print(\"Synonyms: \")\n",
    "    if path is None:\n",
    "        print(\"Path not found.\")\n",
    "    else:\n",
    "        print(\"Path found:\", \" -> \".join(path))\n",
    "        \n",
    "if __name__ == \"__main__\":\n",
    "    main()"
   ]
  },
  {
   "cell_type": "code",
   "execution_count": null,
   "id": "c2b43711",
   "metadata": {},
   "outputs": [],
   "source": []
  }
 ],
 "metadata": {
  "kernelspec": {
   "display_name": "Python 3 (ipykernel)",
   "language": "python",
   "name": "python3"
  },
  "language_info": {
   "codemirror_mode": {
    "name": "ipython",
    "version": 3
   },
   "file_extension": ".py",
   "mimetype": "text/x-python",
   "name": "python",
   "nbconvert_exporter": "python",
   "pygments_lexer": "ipython3",
   "version": "3.11.4"
  }
 },
 "nbformat": 4,
 "nbformat_minor": 5
}
