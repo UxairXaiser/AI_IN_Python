from collections import deque

# Read graph from file
def read_graph(file_name):
    graph = {}
    with open(file_name, 'r') as file:
        for line in file:
            node, neighbors = line.strip().split(':')
            graph[node] = neighbors.split(',')
    return graph

# Depth-limited search
def depth_limited_search(graph, start, goal, depth_limit):
    visited = set()
    queue = deque([(start, [start])])

    while queue:
        current, path = queue.popleft()
        visited.add(current)

        if current == goal:
            return path

        if len(path) <= depth_limit:
            for neighbor in graph.get(current, []):
                if neighbor not in visited:
                    queue.append((neighbor, path + [neighbor]))

    return None

# Bidirectional search
def bidirectional_search(graph, start, goal, depth_limit):
    start_queue = deque([(start, [start])])
    goal_queue = deque([(goal, [goal])])
    start_visited = set([start])
    goal_visited = set([goal])

    while start_queue and goal_queue:
        start_current, start_path = start_queue.popleft()
        goal_current, goal_path = goal_queue.popleft()

        if start_current in goal_visited:
            return start_path + goal_path[::-1]

        if goal_current in start_visited:
            return start_path[::-1] + goal_path

        if len(start_path) <= depth_limit:
            for neighbor in graph.get(start_current, []):
                if neighbor not in start_visited:
                    start_queue.append((neighbor, start_path + [neighbor]))
                    start_visited.add(neighbor)

        if len(goal_path) <= depth_limit:
            for neighbor in graph.get(goal_current, []):
                if neighbor not in goal_visited:
                    goal_queue.append((neighbor, goal_path + [neighbor]))
                    goal_visited.add(neighbor)

    return None

graph = read_graph('web_graph.txt')
start_node = 'html'
goal_node = 'text'
depth_limit = 5

path = bidirectional_search(graph, start_node, goal_node, depth_limit)

if path:
    print("Path found:", ' -> '.join(path))
else:
    print("Path not found within depth limit.")
