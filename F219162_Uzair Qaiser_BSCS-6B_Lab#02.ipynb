{
  "cells": [
    {
      "cell_type": "markdown",
      "id": "20a548b6",
      "metadata": {
        "id": "20a548b6"
      },
      "source": [
        "# Task#01"
      ]
    },
    {
      "cell_type": "code",
      "execution_count": null,
      "id": "f602b0fd",
      "metadata": {
        "id": "f602b0fd",
        "outputId": "24f0e126-52bc-4b00-b154-dfb715d9389a"
      },
      "outputs": [
        {
          "name": "stdout",
          "output_type": "stream",
          "text": [
            "Enter Length: 3\n",
            "Enter Width: 4\n",
            "12.0\n",
            "I am going to Clean the Room Now....\n"
          ]
        }
      ],
      "source": [
        "# Define a class named RobotCleaner\n",
        "class RobotCleaner:\n",
        "    #constructor\n",
        "    def __init__(self, dim):\n",
        "\n",
        "        self.length, self.width = dim\n",
        "\n",
        "    # methos returns the product of length and width\n",
        "    def calculate(self):\n",
        "        return self.length * self.width\n",
        "\n",
        "   #method named clean that prints a message\n",
        "    def clean(self):\n",
        "        print(\"I am going to Clean the Room Now....\")\n",
        "\n",
        "\n",
        "\n",
        "\n",
        "# Taking  the length and width values from user input\n",
        "lenght = float(input(\"Enter Length: \"))\n",
        "width = float(input(\"Enter Width: \"))\n",
        "\n",
        "# Making a tuple named dim with the Length and width values\n",
        "dim = (lenght, width)\n",
        "\n",
        "# Creating an object\n",
        "Cleaner = RobotCleaner(dim)\n",
        "\n",
        "# printing the room area\n",
        "print(Cleaner.calculate())\n",
        "Cleaner.clean()"
      ]
    },
    {
      "cell_type": "markdown",
      "id": "37bf6680",
      "metadata": {
        "id": "37bf6680"
      },
      "source": [
        "# Task#02"
      ]
    },
    {
      "cell_type": "code",
      "execution_count": 1,
      "id": "5f7572ea",
      "metadata": {
        "colab": {
          "base_uri": "https://localhost:8080/"
        },
        "id": "5f7572ea",
        "outputId": "bd7b62a5-c671-4e3c-de8f-f0c935645dea"
      },
      "outputs": [
        {
          "output_type": "stream",
          "name": "stdout",
          "text": [
            "Before adding \n",
            "Summer Season {'August', 'June', 'July'}\n",
            "Winter Season {'March', 'February', 'December'}\n",
            "Enter a month for winter: March\n",
            "Enter a month for Summer: June'\n",
            "After adding \n",
            "Summer Season {'August', \"June'\", 'June', 'July'}\n",
            "Winter Season {'March', 'February', 'December'}\n",
            "After Removing \n",
            "Summer Season {'August', \"June'\", 'July'}\n",
            "Winter Season {'March', 'February'}\n",
            "Checking if a Month is Present:\n",
            "Is 'February' in Winter Season? True\n",
            "Is 'May' in Summer Season? False\n",
            "\n",
            "Set Operations:\n",
            "Intersection of Winter and Summer Season: set()\n",
            "Union of Winter and Summer Season: {\"June'\", 'August', 'February', 'March', 'July'}\n",
            "Difference (Summer - Winter): {'August', \"June'\", 'July'}\n"
          ]
        }
      ],
      "source": [
        "# Method to display\n",
        "def display(winter, summer):\n",
        "    print(\"Summer Season\", summer)\n",
        "    print(\"Winter Season\", winter)\n",
        "\n",
        "# Making sets\n",
        "winter = {\"December\", \"February\", \"March\"}\n",
        "summer = {\"June\", \"July\", \"August\"}\n",
        "\n",
        "# Displaying\n",
        "print(\"Before adding \")\n",
        "display(winter, summer)\n",
        "\n",
        "# Adding a month\n",
        "month = str(input(\"Enter a month for winter: \"))\n",
        "winter.add(month)\n",
        "month = str(input(\"Enter a month for Summer: \"))\n",
        "summer.add(month)\n",
        "\n",
        "print(\"After adding \")\n",
        "display(winter, summer)\n",
        "\n",
        "# Removing a month from each set\n",
        "winter.remove(\"December\")\n",
        "summer.remove(\"June\")\n",
        "\n",
        "print(\"After Removing \")\n",
        "display(winter, summer)\n",
        "\n",
        "# Checking if a month is in the set or not\n",
        "print(\"Checking if a Month is Present:\")\n",
        "print(\"Is 'February' in Winter Season?\", \"February\" in winter)\n",
        "print(\"Is 'May' in Summer Season?\", \"May\" in summer)\n",
        "\n",
        "\n",
        "#Applying operations\n",
        "\n",
        "intersect = summer.intersection(winter)\n",
        "union = summer.union(winter)\n",
        "difference = summer.difference(winter)\n",
        "\n",
        "\n",
        "# Display set operations\n",
        "print(\"\\nSet Operations:\")\n",
        "print(\"Intersection of Winter and Summer Season:\", intersect)\n",
        "print(\"Union of Winter and Summer Season:\", union)\n",
        "print(\"Difference (Summer - Winter):\", difference)"
      ]
    },
    {
      "cell_type": "markdown",
      "id": "f8dd4914",
      "metadata": {
        "id": "f8dd4914"
      },
      "source": [
        "# Task#03"
      ]
    },
    {
      "cell_type": "code",
      "execution_count": 2,
      "id": "39001f62",
      "metadata": {
        "colab": {
          "base_uri": "https://localhost:8080/"
        },
        "id": "39001f62",
        "outputId": "30781549-bda8-4fde-9f7d-c3ee7d6359ff"
      },
      "outputs": [
        {
          "output_type": "stream",
          "name": "stdout",
          "text": [
            "Enter 'y' or 'n' \n",
            "Do you have pain behind eyes? (Y/N): y\n",
            "Do you have severe headache? (Y/N): y\n",
            "Do you have nausea? (Y/N): n\n",
            "Do you have vomiting? (Y/N): n\n",
            "Do you have muscle and joint pains? (Y/N): y\n",
            "Do you have swollen glands? (Y/N): n\n",
            "Do you have high fever? (Y/N): y\n",
            "Do you have rash? (Y/N): n\n",
            "Based on your symptoms, there is a possibility that you may have Dengue.\n",
            "It is important to consult with a healthcare professional for further guidance.\n"
          ]
        }
      ],
      "source": [
        "def dengue_detection_system(symptoms):\n",
        "    # Dictionary to store weights\n",
        "    symptom_weights = {\n",
        "        \"high_fever\": 5,\n",
        "        \"severe_headache\": 5,\n",
        "        \"pain_behind_eyes\": 2,\n",
        "        \"muscle_and_joint_pains\": 5,\n",
        "        \"nausea\": 3,\n",
        "        \"vomiting\": 1,\n",
        "        \"swollen_glands\": 3,\n",
        "        \"rash\": 1,\n",
        "    }\n",
        "\n",
        "    # Calculate total score\n",
        "    total_score = sum(symptom_weights[symptom] for symptom in symptoms)\n",
        "\n",
        "\n",
        "    # Printing result based on the calculated score\n",
        "    if total_score >= 15:\n",
        "        print(\"Based on your symptoms, there is a possibility that you may have Dengue.\")\n",
        "        print(\"It is important to consult with a healthcare professional for further guidance.\")\n",
        "    else:\n",
        "        print(\"Based on your symptoms, it is less likely that you have Dengue.\")\n",
        "        print(\"However, if you have concerns, it is always a good idea to consult with a healthcare professional.\")\n",
        "\n",
        "\n",
        "\n",
        "symptoms = {\n",
        "        \"high_fever\",\n",
        "        \"severe_headache\",\n",
        "        \"pain_behind_eyes\",\n",
        "        \"muscle_and_joint_pains\",\n",
        "        \"nausea\",\n",
        "        \"vomiting\",\n",
        "        \"swollen_glands\",\n",
        "        \"rash\",\n",
        "    }\n",
        "user_symptoms = []\n",
        "print(\"Enter 'y' or 'n' \")\n",
        "\n",
        "for symptom in symptoms:\n",
        "    user_input = input(f\"Do you have {symptom.replace('_',' ')}? (Y/N): \")\n",
        "    if user_input == 'y':\n",
        "        user_symptoms.append(symptom)\n",
        "\n",
        "\n",
        "dengue_detection_system(user_symptoms)\n"
      ]
    },
    {
      "cell_type": "markdown",
      "id": "b66ece2e",
      "metadata": {
        "id": "b66ece2e"
      },
      "source": [
        "# Task#04"
      ]
    },
    {
      "cell_type": "code",
      "execution_count": 4,
      "id": "34cf0850",
      "metadata": {
        "colab": {
          "base_uri": "https://localhost:8080/",
          "height": 262
        },
        "id": "34cf0850",
        "outputId": "ccfe83ea-0333-48e5-8ffc-3c37d8e2808e"
      },
      "outputs": [
        {
          "output_type": "stream",
          "name": "stdout",
          "text": [
            "Enter your name: talib\n",
            "Enter your CNIC: 3110555723065\n",
            "Welcome to the Movie Reservation System.\n"
          ]
        },
        {
          "output_type": "error",
          "ename": "TypeError",
          "evalue": "MovieReservationSystem.display_movie_info() missing 1 required positional argument: 'genre'",
          "traceback": [
            "\u001b[0;31m---------------------------------------------------------------------------\u001b[0m",
            "\u001b[0;31mTypeError\u001b[0m                                 Traceback (most recent call last)",
            "\u001b[0;32m<ipython-input-4-4959041e77d8>\u001b[0m in \u001b[0;36m<cell line: 36>\u001b[0;34m()\u001b[0m\n\u001b[1;32m     34\u001b[0m \u001b[0mobj\u001b[0m \u001b[0;34m=\u001b[0m \u001b[0mMovieReservationSystem\u001b[0m\u001b[0;34m(\u001b[0m\u001b[0;34m)\u001b[0m\u001b[0;34m\u001b[0m\u001b[0;34m\u001b[0m\u001b[0m\n\u001b[1;32m     35\u001b[0m \u001b[0mobj\u001b[0m\u001b[0;34m.\u001b[0m\u001b[0mget_user_info\u001b[0m\u001b[0;34m(\u001b[0m\u001b[0;34m)\u001b[0m\u001b[0;34m\u001b[0m\u001b[0;34m\u001b[0m\u001b[0m\n\u001b[0;32m---> 36\u001b[0;31m \u001b[0mobj\u001b[0m\u001b[0;34m.\u001b[0m\u001b[0mdisplay_movie_info\u001b[0m\u001b[0;34m(\u001b[0m\u001b[0;34m)\u001b[0m\u001b[0;34m\u001b[0m\u001b[0;34m\u001b[0m\u001b[0m\n\u001b[0m",
            "\u001b[0;31mTypeError\u001b[0m: MovieReservationSystem.display_movie_info() missing 1 required positional argument: 'genre'"
          ]
        }
      ],
      "source": [
        "class MovieReservationSystem:\n",
        "    def __init__(self):\n",
        "        self.user_data = {}\n",
        "\n",
        "    def get_user_info(self):\n",
        "        name = input(\"Enter your name: \")\n",
        "        cnic = input(\"Enter your CNIC: \")\n",
        "        self.user_data = {\"name\": name, \"cnic\": cnic}\n",
        "        print(\"Welcome to the Movie Reservation System.\")\n",
        "\n",
        "    def select_movie_genre(self):\n",
        "        print(\"Select a movie genre:\")\n",
        "        print(\"1. Action\")\n",
        "        print(\"2. Comedy\")\n",
        "        print(\"3. Drama\")\n",
        "        print(\"4. Science Fiction\")\n",
        "        print(\"5. Thriller\")\n",
        "\n",
        "        choice = int(input(\"Enter the number corresponding to your choice: \"))\n",
        "        genres = [\"Action\", \"Comedy\", \"Drama\", \"Science Fiction\", \"Thriller\"]\n",
        "        selected_genre = genres[choice - 1]\n",
        "        return selected_genre\n",
        "\n",
        "\n",
        "    def display_movie_info(self, genre):\n",
        "        movies_by_genre = {\n",
        "            \"Action\": [\"Movie1\", \"Movie2\", \"Movie3\"],\n",
        "            \"Comedy\": [\"Movie4\", \"Movie5\", \"Movie6\"],\n",
        "            \"Drama\": [\"Movie7\", \"Movie8\", \"Movie9\"],\n",
        "            \"Science Fiction\": [\"Movie10\", \"Movie11\", \"Movie12\"],\n",
        "            \"Thriller\": [\"Movie13\", \"Movie14\", \"Movie15\"]\n",
        "        }\n",
        "\n",
        "obj = MovieReservationSystem()\n",
        "obj.get_user_info()\n",
        "obj.display_movie_info()"
      ]
    },
    {
      "cell_type": "code",
      "execution_count": null,
      "id": "2110e7a4",
      "metadata": {
        "id": "2110e7a4"
      },
      "outputs": [],
      "source": []
    }
  ],
  "metadata": {
    "kernelspec": {
      "display_name": "Python 3 (ipykernel)",
      "language": "python",
      "name": "python3"
    },
    "language_info": {
      "codemirror_mode": {
        "name": "ipython",
        "version": 3
      },
      "file_extension": ".py",
      "mimetype": "text/x-python",
      "name": "python",
      "nbconvert_exporter": "python",
      "pygments_lexer": "ipython3",
      "version": "3.11.5"
    },
    "colab": {
      "provenance": []
    }
  },
  "nbformat": 4,
  "nbformat_minor": 5
}