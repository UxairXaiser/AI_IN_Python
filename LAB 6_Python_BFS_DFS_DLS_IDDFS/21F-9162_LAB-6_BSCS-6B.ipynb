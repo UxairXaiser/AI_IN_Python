{
 "cells": [
  {
   "cell_type": "markdown",
   "id": "b51f0566",
   "metadata": {},
   "source": [
    "# DFS"
   ]
  },
  {
   "cell_type": "code",
   "execution_count": 32,
   "id": "ba1ba64c",
   "metadata": {},
   "outputs": [
    {
     "name": "stdout",
     "output_type": "stream",
     "text": [
      "Graph =  {'home': ['university', 'school', 'park', 'supermarket'], 'school': ['home', 'library', 'park'], 'park': ['school', 'home', 'supermarket'], 'supermarket': ['library', 'home', 'park'], 'library': ['supermarket', 'university', 'school'], 'university': ['library', 'home']}\n",
      "Enter starting point: park\n",
      "Enter Goal State: home\n",
      "Goal found\n",
      "Path:  park -> supermarket -> home -> \n"
     ]
    }
   ],
   "source": [
    "class Graph:\n",
    "    graph = {\n",
    "        'home' :['university','school', 'park' , 'supermarket'],\n",
    "        'school' :['home','library','park'],\n",
    "        'park' :['school','home','supermarket'],\n",
    "        'supermarket' :['library','home','park'],\n",
    "        'library' :['supermarket','university','school'],\n",
    "        'university' :['library','home']\n",
    "    }\n",
    "    \n",
    "    def printf(self):\n",
    "        print(\"Graph = \", self.graph)\n",
    "        \n",
    "    def DFS(self, start , goal):\n",
    "        path = \"\"\n",
    "        visited = []\n",
    "        stack = []\n",
    "        stack.append(start)\n",
    "        \n",
    "        while stack:\n",
    "            node= stack.pop()\n",
    "            path+=node\n",
    "            path+= \" -> \"\n",
    "            if node == goal:\n",
    "                print(\"Goal found\")\n",
    "                return path\n",
    "        \n",
    "            for n in self.graph[node]:\n",
    "                if n not in visited:\n",
    "                    stack.append(n)\n",
    "            visited.append(node)       \n",
    "                \n",
    "\n",
    "g=Graph()\n",
    "#g.printf()\n",
    "\n",
    "start=input(\"Enter starting point: \")\n",
    "Goal=input(\"Enter Goal State: \")\n",
    "p = g.DFS(start,Goal)\n",
    "print(\"Path: \",p)"
   ]
  },
  {
   "cell_type": "markdown",
   "id": "388ebf2a",
   "metadata": {},
   "source": [
    "# BFS"
   ]
  },
  {
   "cell_type": "code",
   "execution_count": 37,
   "id": "10ab9486",
   "metadata": {},
   "outputs": [
    {
     "name": "stdout",
     "output_type": "stream",
     "text": [
      "Enter starting point: home\n",
      "Enter Goal State: park\n",
      "Goal found\n",
      "Path:  home -> university -> school -> park -> \n"
     ]
    }
   ],
   "source": [
    "class Graph:\n",
    "    graph = {\n",
    "        'home' :['university','school', 'park' , 'supermarket'],\n",
    "        'school' :['home','library','park'],\n",
    "        'park' :['school','home','supermarket'],\n",
    "        'supermarket' :['library','home','park'],\n",
    "        'library' :['supermarket','university','school'],\n",
    "        'university' :['library','home']\n",
    "    }\n",
    "    \n",
    "    def printf(self):\n",
    "        print(\"Graph = \", self.graph)\n",
    "        \n",
    "    def DFS(self, start , goal):\n",
    "        path = \"\"\n",
    "        visited = []\n",
    "        queue = []\n",
    "        queue.append(start)\n",
    "        \n",
    "        while queue:\n",
    "            node= queue.pop(0)\n",
    "            path+=node\n",
    "            path+= \" -> \"\n",
    "            if node == goal:\n",
    "                print(\"Goal found\")\n",
    "                return path\n",
    "        \n",
    "            for n in self.graph[node]:\n",
    "                if n not in visited:\n",
    "                    queue.append(n)\n",
    "            visited.append(node)       \n",
    "                \n",
    " \n",
    "g=Graph()\n",
    "\n",
    "start=input(\"Enter starting point: \")\n",
    "Goal=input(\"Enter Goal State: \")\n",
    "p = g.DFS(start,Goal)\n",
    "print(\"Path: \",p)"
   ]
  },
  {
   "cell_type": "markdown",
   "id": "c3c66e40",
   "metadata": {},
   "source": [
    "#  DLS"
   ]
  },
  {
   "cell_type": "code",
   "execution_count": 61,
   "id": "a1b2eeb3",
   "metadata": {},
   "outputs": [
    {
     "name": "stdout",
     "output_type": "stream",
     "text": [
      "Enter starting point: home\n",
      "Enter Goal State: library\n",
      "Enter Max Depth: 2\n",
      "Goal found\n",
      "Path:  home -> supermarket -> park -> library -> \n"
     ]
    }
   ],
   "source": [
    "class Graph:\n",
    "    graph = {\n",
    "        'home' :['university','school','park' , 'supermarket'],\n",
    "        'school' :['home','library','park'],\n",
    "        'park' :['school','home','supermarket'],\n",
    "        'supermarket' :['library','home','park'],\n",
    "        'library' :['supermarket','university','school'],\n",
    "        'university' :['library','home']\n",
    "    }\n",
    "    \n",
    "    def printf(self):\n",
    "        print(\"Graph = \", self.graph)\n",
    "        \n",
    "    def DLS(self, start , goal , maxdepth):\n",
    "        depth = 1\n",
    "        path = \"\"\n",
    "        visited = []\n",
    "        stack = []\n",
    "        stack.append(start)\n",
    "        \n",
    "        while stack:\n",
    "        \n",
    "            node= stack.pop()\n",
    "            path+=node\n",
    "            path+= \" -> \"\n",
    "            \n",
    "            if node == goal:\n",
    "                print(\"Goal found\")\n",
    "                return path\n",
    "            \n",
    "            if depth <= maxdepth:\n",
    "                for n in self.graph[node]:\n",
    "                    if n not in visited:\n",
    "                        stack.append(n)\n",
    "                        \n",
    "            visited.append(node)\n",
    "            depth+=1\n",
    "            \n",
    "            \n",
    "                \n",
    " \n",
    "g=Graph()\n",
    "#g.printf()\n",
    "\n",
    "start=input(\"Enter starting point: \")\n",
    "Goal=input(\"Enter Goal State: \")\n",
    "depth=int(input(\"Enter Max Depth: \"))\n",
    "p = g.DLS(start,Goal,depth)\n",
    "print(\"Path: \",p)"
   ]
  },
  {
   "cell_type": "markdown",
   "id": "c36d9bb2",
   "metadata": {},
   "source": [
    "# IDDFS"
   ]
  },
  {
   "cell_type": "code",
   "execution_count": 60,
   "id": "0b6fc2de",
   "metadata": {},
   "outputs": [
    {
     "name": "stdout",
     "output_type": "stream",
     "text": [
      "Enter starting point: home\n",
      "Enter Goal State: library\n",
      "Enter Max Depth: 3\n",
      "Iteration:  1 \n",
      " Path:  None\n",
      "Goal found\n",
      "Iteration:  2 \n",
      " Path:  home -> supermarket -> park -> library -> \n",
      "Goal found\n",
      "Iteration:  3 \n",
      " Path:  home -> supermarket -> park -> school -> library -> \n"
     ]
    }
   ],
   "source": [
    "class Graph:\n",
    "    graph = {\n",
    "        'home' :['university','school','park' , 'supermarket'],\n",
    "        'school' :['home','library','park'],\n",
    "        'park' :['school','home','supermarket'],\n",
    "        'supermarket' :['library','home','park'],\n",
    "        'library' :['supermarket','university','school'],\n",
    "        'university' :['library','home']\n",
    "    }\n",
    "    \n",
    "    def printf(self):\n",
    "        print(\"Graph = \", self.graph)\n",
    "        \n",
    "    def DLS(self, start , goal , maxdepth):\n",
    "        depth = 1\n",
    "        path = \"\"\n",
    "        visited = []\n",
    "        stack = []\n",
    "        stack.append(start)\n",
    "        \n",
    "        while stack:\n",
    "        \n",
    "            node= stack.pop()\n",
    "            path+=node\n",
    "            path+= \" -> \"\n",
    "            \n",
    "            if node == goal:\n",
    "                print(\"Goal found\")\n",
    "                return path\n",
    "            \n",
    "            if depth <= maxdepth:\n",
    "                for n in self.graph[node]:\n",
    "                    if n not in visited:\n",
    "                        stack.append(n)\n",
    "                        \n",
    "            visited.append(node)\n",
    "            depth+=1\n",
    "            \n",
    "    def IDS(self,start,Goal,depth):\n",
    "        for i in range(1, depth+1):\n",
    "                p = self.DLS(start,Goal,i)\n",
    "                print(\"Iteration: \",i,'\\n',\"Path: \" , p)   \n",
    "            \n",
    "                \n",
    " \n",
    "g=Graph()\n",
    "#g.printf()\n",
    "\n",
    "start=input(\"Enter starting point: \")\n",
    "Goal=input(\"Enter Goal State: \")\n",
    "depth=int(input(\"Enter Max Depth: \"))\n",
    "p = g.IDS(start,Goal,depth)\n"
   ]
  },
  {
   "cell_type": "code",
   "execution_count": null,
   "id": "9e7eb956",
   "metadata": {},
   "outputs": [],
   "source": []
  }
 ],
 "metadata": {
  "kernelspec": {
   "display_name": "Python 3 (ipykernel)",
   "language": "python",
   "name": "python3"
  },
  "language_info": {
   "codemirror_mode": {
    "name": "ipython",
    "version": 3
   },
   "file_extension": ".py",
   "mimetype": "text/x-python",
   "name": "python",
   "nbconvert_exporter": "python",
   "pygments_lexer": "ipython3",
   "version": "3.11.4"
  }
 },
 "nbformat": 4,
 "nbformat_minor": 5
}
