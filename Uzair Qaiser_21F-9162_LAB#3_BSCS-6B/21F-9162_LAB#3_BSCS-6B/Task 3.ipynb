{
 "cells": [
  {
   "cell_type": "markdown",
   "id": "c7f9fed3",
   "metadata": {},
   "source": [
    "# Task 3"
   ]
  },
  {
   "cell_type": "code",
   "execution_count": 7,
   "id": "d12a2a9f",
   "metadata": {},
   "outputs": [
    {
     "name": "stdout",
     "output_type": "stream",
     "text": [
      "Path: 1->2->7->6->11->16->17->22->23->18->19->24->25\n"
     ]
    }
   ],
   "source": [
    "from collections import defaultdict\n",
    "\n",
    "class Graph:\n",
    "    def __init__(self):\n",
    "        self.graph = defaultdict(list)\n",
    "   \n",
    "    def addEdge(self,u,v):\n",
    "        self.graph[u].append(v)\n",
    "        self.graph[v].append(u)\n",
    "       \n",
    "       \n",
    "    def DFS(self, start, end):\n",
    "        visited = {node: False for node in self.graph}\n",
    "        stack = [(s, [s])]\n",
    "   \n",
    "        while stack:\n",
    "            current, path = stack.pop()\n",
    "            if current == e:\n",
    "                return path\n",
    "            if current in self.graph and not visited[current]:\n",
    "                visited[current] = True\n",
    "                for neighbor in reversed(self.graph[current]):\n",
    "                    if not visited[neighbor]:\n",
    "                        stack.append((neighbor, path + [neighbor]))\n",
    "        return None\n",
    "\n",
    "\n",
    "g = Graph()\n",
    "g.addEdge(1, 2)\n",
    "g.addEdge(2, 3)\n",
    "g.addEdge(2, 7)\n",
    "g.addEdge(3, 4)\n",
    "g.addEdge(3, 8)\n",
    "g.addEdge(4, 5)\n",
    "g.addEdge(5, 10)\n",
    "g.addEdge(7, 6)\n",
    "g.addEdge(7, 12)\n",
    "g.addEdge(6, 11)\n",
    "g.addEdge(6, 7)\n",
    "g.addEdge(11, 12)\n",
    "g.addEdge(11, 16)\n",
    "g.addEdge(16, 17)\n",
    "g.addEdge(17, 22)\n",
    "g.addEdge(22, 23)\n",
    "g.addEdge(23, 18)\n",
    "g.addEdge(18, 19)\n",
    "g.addEdge(19, 24)\n",
    "g.addEdge(24, 25)\n",
    "g.addEdge(19, 14)\n",
    "g.addEdge(14, 9)\n",
    "g.addEdge(15, 15)\n",
    "g.addEdge(20, 20)\n",
    "\n",
    "\n",
    "\n",
    "start = 1\n",
    "end = 25\n",
    "\n",
    "path = g.DFS(s, e)\n",
    "\n",
    "if path:\n",
    "    print(\"Path:\", \" -> \".join(map(str, path)))"
   ]
  },
  {
   "cell_type": "code",
   "execution_count": null,
   "id": "d69eaa0f",
   "metadata": {},
   "outputs": [],
   "source": []
  }
 ],
 "metadata": {
  "kernelspec": {
   "display_name": "Python 3 (ipykernel)",
   "language": "python",
   "name": "python3"
  },
  "language_info": {
   "codemirror_mode": {
    "name": "ipython",
    "version": 3
   },
   "file_extension": ".py",
   "mimetype": "text/x-python",
   "name": "python",
   "nbconvert_exporter": "python",
   "pygments_lexer": "ipython3",
   "version": "3.11.4"
  }
 },
 "nbformat": 4,
 "nbformat_minor": 5
}
