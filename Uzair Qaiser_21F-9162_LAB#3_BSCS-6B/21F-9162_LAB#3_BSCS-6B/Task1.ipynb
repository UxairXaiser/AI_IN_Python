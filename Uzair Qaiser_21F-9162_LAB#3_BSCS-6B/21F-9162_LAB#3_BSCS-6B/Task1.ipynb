{
 "cells": [
  {
   "cell_type": "markdown",
   "id": "893cce8d",
   "metadata": {},
   "source": [
    "# BFS"
   ]
  },
  {
   "cell_type": "code",
   "execution_count": 60,
   "id": "54ed7458",
   "metadata": {},
   "outputs": [
    {
     "name": "stdout",
     "output_type": "stream",
     "text": [
      "Following is Breath First Traveral (starting from vertex Home)\n",
      "\n",
      "Home Products Blogs About Us Contact Us Product 1 Product 2 Product 3 Blog Pos 1 Blog Pos 2 1 "
     ]
    }
   ],
   "source": [
    "from collections import defaultdict\n",
    "\n",
    "class Graph:\n",
    "   \n",
    "    def __init__(self):\n",
    "        self.graph = defaultdict(list)\n",
    "       \n",
    "    def addEdge(self, u, v):\n",
    "        self.graph[u].append(v)\n",
    "        self.graph[v].append(u)\n",
    "        \n",
    "    def BFS(self, s):\n",
    "        visited = {}\n",
    "        for i in self.graph:\n",
    "            visited[i] = False\n",
    "       \n",
    "        queue = []\n",
    "       \n",
    "        queue.append(s)\n",
    "        visited[s] = True\n",
    "       \n",
    "        while queue:\n",
    "           \n",
    "            s = queue.pop(0)\n",
    "            print (s, end = \" \")\n",
    "           \n",
    "            for i in self.graph[s]:\n",
    "                if visited[i] == False:\n",
    "                    queue.append(i)\n",
    "                    visited[i] = True\n",
    "                   \n",
    "g = Graph()\n",
    "g.addEdge(\"Home\", \"Products\")\n",
    "g.addEdge(\"Home\", \"Blogs\")\n",
    "g.addEdge(\"Home\", \"About Us\")\n",
    "g.addEdge(\"Home\", \"Contact Us\")\n",
    "\n",
    "g.addEdge(\"Products\", \"Product 1\")\n",
    "g.addEdge(\"Products\", \"Product 2\")\n",
    "g.addEdge(\"Products\", \"Product 3\")\n",
    "\n",
    "\n",
    "g.addEdge(\"Blogs\", \"Blog Pos 1\")\n",
    "g.addEdge(\"Blogs\", \"Blog Pos 2\")\n",
    "\n",
    "\n",
    "print (\"Following is Breath First Traveral (starting from vertex Home)\\n\")\n",
    "g.BFS(\"Home\")\n",
    "\n",
    "\n",
    "g.BFS(1)"
   ]
  },
  {
   "cell_type": "markdown",
   "id": "4d3c3d9c",
   "metadata": {},
   "source": [
    "# DFS"
   ]
  },
  {
   "cell_type": "code",
   "execution_count": 63,
   "id": "04b29e6c",
   "metadata": {},
   "outputs": [
    {
     "name": "stdout",
     "output_type": "stream",
     "text": [
      "Following is Depth First Traveral (starting from vertex Home)\n",
      "\n",
      "Home Products Product 1 Product 2 Product 3 Blogs Blog Post 1 Blog Post 2 About Us Contact Us "
     ]
    }
   ],
   "source": [
    "from collections import defaultdict\n",
    "\n",
    "from collections import defaultdict\n",
    "\n",
    "class Graph:\n",
    "   \n",
    "    def __init__(self):\n",
    "        self.graph = defaultdict(list)\n",
    "       \n",
    "    def addEdge(self, u, v):\n",
    "        self.graph[u].append(v)\n",
    "        self.graph[v].append(u)\n",
    "        \n",
    "             \n",
    "    def DFS(self, s):\n",
    "        visited = {}\n",
    "        for i in self.graph:\n",
    "            visited[i] = False\n",
    "        \n",
    "       \n",
    "        stack = []\n",
    "       \n",
    "        stack.append(s)\n",
    "        visited[s] = True\n",
    "       \n",
    "        while stack:\n",
    "           \n",
    "            s = stack.pop()\n",
    "            print (s, end = \" \")\n",
    "            for i in reversed(self.graph[s]):\n",
    "                if visited[i] == False:\n",
    "                    stack.append(i)\n",
    "                    visited[i] = True\n",
    "\n",
    "g = Graph()\n",
    "g.addEdge(\"Home\", \"Products\")\n",
    "g.addEdge(\"Home\", \"Blogs\")\n",
    "g.addEdge(\"Home\", \"About Us\")\n",
    "g.addEdge(\"Home\", \"Contact Us\")\n",
    "\n",
    "g.addEdge(\"Products\", \"Product 1\")\n",
    "g.addEdge(\"Products\", \"Product 2\")\n",
    "g.addEdge(\"Products\", \"Product 3\")\n",
    "\n",
    "\n",
    "g.addEdge(\"Blogs\", \"Blog Post 1\")\n",
    "g.addEdge(\"Blogs\", \"Blog Post 2\")\n",
    "\n",
    "\n",
    "print (\"Following is Depth First Traveral (starting from vertex Home)\\n\")\n",
    "g.DFS(\"Home\")\n"
   ]
  },
  {
   "cell_type": "code",
   "execution_count": null,
   "id": "c5bc3b47",
   "metadata": {},
   "outputs": [],
   "source": []
  }
 ],
 "metadata": {
  "kernelspec": {
   "display_name": "Python 3 (ipykernel)",
   "language": "python",
   "name": "python3"
  },
  "language_info": {
   "codemirror_mode": {
    "name": "ipython",
    "version": 3
   },
   "file_extension": ".py",
   "mimetype": "text/x-python",
   "name": "python",
   "nbconvert_exporter": "python",
   "pygments_lexer": "ipython3",
   "version": "3.11.4"
  }
 },
 "nbformat": 4,
 "nbformat_minor": 5
}
