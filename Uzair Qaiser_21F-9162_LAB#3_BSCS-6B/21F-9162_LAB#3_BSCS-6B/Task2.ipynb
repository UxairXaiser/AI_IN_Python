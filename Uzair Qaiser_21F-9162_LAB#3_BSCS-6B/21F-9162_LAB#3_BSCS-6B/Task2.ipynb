{
 "cells": [
  {
   "cell_type": "markdown",
   "id": "cee7edd6",
   "metadata": {},
   "source": [
    "# Task 2"
   ]
  },
  {
   "cell_type": "code",
   "execution_count": 3,
   "id": "cd69c0df",
   "metadata": {},
   "outputs": [
    {
     "name": "stdout",
     "output_type": "stream",
     "text": [
      "Path from Ali to Qasim : Ali -> Hamza -> Akram -> Qasim\n"
     ]
    }
   ],
   "source": [
    "from collections import defaultdict, deque\n",
    "\n",
    "class Graph:\n",
    "    def __init__(self):\n",
    "        self.graph = defaultdict(list)\n",
    "\n",
    "    def add_edge(self, u, v):\n",
    "        self.graph[u].append(v)\n",
    "        self.graph[v].append(u)\n",
    "\n",
    "    def bfs(self, start, end):\n",
    "        visited = set()\n",
    "        queue = deque([[start]])\n",
    "        \n",
    "        if start == end:\n",
    "            return [start]\n",
    "        \n",
    "        while queue:\n",
    "            path = queue.popleft()\n",
    "            node = path[-1]\n",
    "            \n",
    "            if node not in visited:\n",
    "                neighbors = self.graph[node]\n",
    "                \n",
    "                for neighbor in neighbors:\n",
    "                    new_path = list(path)\n",
    "                    new_path.append(neighbor)\n",
    "                    queue.append(new_path)\n",
    "                    \n",
    "                    if neighbor == end:\n",
    "                        return new_path\n",
    "                \n",
    "                visited.add(node)\n",
    "        \n",
    "        return None\n",
    "\n",
    "\n",
    "g = Graph()\n",
    "g.add_edge(\"Ali\", \"Hamza\")\n",
    "g.add_edge(\"Hamza\", \"Hammad\")\n",
    "g.add_edge(\"Hamza\", \"Fahad\")\n",
    "g.add_edge(\"Hamza\", \"Akram\")\n",
    "g.add_edge(\"Hammad\", \"Bilal\")\n",
    "g.add_edge(\"Bilal\", \"Akram\")\n",
    "g.add_edge(\"Akram\", \"Qasim\")\n",
    "g.add_edge(\"Fahad\", \"Shoaib\")\n",
    "g.add_edge(\"Shoaib\", \"Akram\")\n",
    "\n",
    "\n",
    "start = \"Ali\"\n",
    "end = \"Qasim\"\n",
    "path = g.bfs(start, end)\n",
    "\n",
    "if path:\n",
    "    print(\"Path: \", start, \"to\", end, \":\", \" -> \".join(path))\n",
    "\n"
   ]
  },
  {
   "cell_type": "code",
   "execution_count": null,
   "id": "59a80a43",
   "metadata": {},
   "outputs": [],
   "source": []
  }
 ],
 "metadata": {
  "kernelspec": {
   "display_name": "Python 3 (ipykernel)",
   "language": "python",
   "name": "python3"
  },
  "language_info": {
   "codemirror_mode": {
    "name": "ipython",
    "version": 3
   },
   "file_extension": ".py",
   "mimetype": "text/x-python",
   "name": "python",
   "nbconvert_exporter": "python",
   "pygments_lexer": "ipython3",
   "version": "3.11.4"
  }
 },
 "nbformat": 4,
 "nbformat_minor": 5
}
